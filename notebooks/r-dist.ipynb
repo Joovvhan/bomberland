{
 "cells": [
  {
   "cell_type": "code",
   "execution_count": 1,
   "id": "135b2194",
   "metadata": {},
   "outputs": [],
   "source": [
    "from glob import glob"
   ]
  },
  {
   "cell_type": "code",
   "execution_count": 2,
   "id": "3daa6b72",
   "metadata": {},
   "outputs": [],
   "source": [
    "import numpy as np\n",
    "from tqdm.auto import tqdm"
   ]
  },
  {
   "cell_type": "code",
   "execution_count": 3,
   "id": "d3b45228",
   "metadata": {},
   "outputs": [],
   "source": [
    "import matplotlib.pyplot as plt"
   ]
  },
  {
   "cell_type": "code",
   "execution_count": 4,
   "id": "795b2d58",
   "metadata": {},
   "outputs": [
    {
     "name": "stdout",
     "output_type": "stream",
     "text": [
      "['../python3/obs/ep006', '../python3/obs/ep004', '../python3/obs/ep002', '../python3/obs/ep001', '../python3/obs/ep007', '../python3/obs/ep003', '../python3/obs/ep005', '../python3/obs/ep000']\n"
     ]
    }
   ],
   "source": [
    "print(glob('../python3/obs/*'))"
   ]
  },
  {
   "cell_type": "code",
   "execution_count": 5,
   "id": "96f35b88",
   "metadata": {},
   "outputs": [],
   "source": [
    "npz_files = sorted(glob('../python3/obs/*/*.npz'))"
   ]
  },
  {
   "cell_type": "code",
   "execution_count": 6,
   "id": "2b2e8477",
   "metadata": {},
   "outputs": [
    {
     "data": {
      "application/vnd.jupyter.widget-view+json": {
       "model_id": "ca4ccc56b2064fba912ae0c1e780c62d",
       "version_major": 2,
       "version_minor": 0
      },
      "text/plain": [
       "  0%|          | 0/15865 [00:00<?, ?it/s]"
      ]
     },
     "metadata": {},
     "output_type": "display_data"
    }
   ],
   "source": [
    "r_vector = np.array([])\n",
    "\n",
    "for i in tqdm(range(len(npz_files))):\n",
    "    obs = np.load(npz_files[i])\n",
    "    obs['r_vector']\n",
    "    r_vector = np.concatenate((r_vector, obs['r_vector']), axis = 0)"
   ]
  },
  {
   "cell_type": "code",
   "execution_count": 12,
   "id": "d3bf1b22",
   "metadata": {
    "scrolled": false
   },
   "outputs": [
    {
     "data": {
      "image/png": "[encoded data removed]",
      "text/plain": [
       "<Figure size 432x288 with 1 Axes>"
      ]
     },
     "metadata": {
      "needs_background": "light"
     },
     "output_type": "display_data"
    },
    {
     "data": {
      "image/png": "[encoded data removed]",
      "text/plain": [
       "<Figure size 432x288 with 1 Axes>"
      ]
     },
     "metadata": {
      "needs_background": "light"
     },
     "output_type": "display_data"
    },
    {
     "data": {
      "image/png": "[encoded data removed]",
      "text/plain": [
       "<Figure size 432x288 with 1 Axes>"
      ]
     },
     "metadata": {
      "needs_background": "light"
     },
     "output_type": "display_data"
    }
   ],
   "source": [
    "# plt.figure()\n",
    "# plt.hist(r_vector, bins=30, log=True)\n",
    "# plt.show()\n",
    "\n",
    "# plt.figure()\n",
    "# plt.hist(r_vector, bins=30)\n",
    "# plt.show()\n",
    "\n",
    "# plt.figure()\n",
    "# plt.hist(np.abs(r_vector), bins=30)\n",
    "# plt.show()\n",
    "\n",
    "plt.figure()\n",
    "plt.hist(r_vector, bins=50, histtype='step')\n",
    "plt.show()\n",
    "\n",
    "plt.figure()\n",
    "plt.hist(r_vector, bins=50, histtype='step', log=True)\n",
    "plt.show()\n",
    "\n",
    "plt.figure()\n",
    "plt.hist(np.abs(r_vector), bins=np.arange(0, 1.7, 0.01), cumulative=True, histtype='step', density=True)\n",
    "plt.show()\n",
    "\n",
    "# plt.figure()\n",
    "# plt.hist(np.abs(r_vector), bins=30, log=True, histtype='step')\n",
    "# plt.show()"
   ]
  },
  {
   "cell_type": "code",
   "execution_count": 8,
   "id": "f9d49ea7",
   "metadata": {},
   "outputs": [
    {
     "data": {
      "text/plain": [
       "0.18882432432432433"
      ]
     },
     "execution_count": 8,
     "metadata": {},
     "output_type": "execute_result"
    }
   ],
   "source": [
    "np.sum((np.abs(r_vector) > 0.1)) / len(r_vector)"
   ]
  },
  {
   "cell_type": "code",
   "execution_count": 9,
   "id": "22affcd5",
   "metadata": {},
   "outputs": [
    {
     "data": {
      "text/plain": [
       "0.2454864864864865"
      ]
     },
     "execution_count": 9,
     "metadata": {},
     "output_type": "execute_result"
    }
   ],
   "source": [
    "np.sum((np.abs(r_vector) > 0.05)) / len(r_vector)"
   ]
  },
  {
   "cell_type": "code",
   "execution_count": 10,
   "id": "836debf6",
   "metadata": {},
   "outputs": [
    {
     "data": {
      "text/plain": [
       "0.3204324324324324"
      ]
     },
     "execution_count": 10,
     "metadata": {},
     "output_type": "execute_result"
    }
   ],
   "source": [
    "np.sum((np.abs(r_vector) > 0.02)) / len(r_vector)"
   ]
  },
  {
   "cell_type": "code",
   "execution_count": 11,
   "id": "2932a031",
   "metadata": {},
   "outputs": [
    {
     "data": {
      "text/plain": [
       "0.3745675675675676"
      ]
     },
     "execution_count": 11,
     "metadata": {},
     "output_type": "execute_result"
    }
   ],
   "source": [
    "np.sum((np.abs(r_vector) > 0.01)) / len(r_vector)"
   ]
  }
 ],
 "metadata": {
  "kernelspec": {
   "display_name": "Python 3 (ipykernel)",
   "language": "python",
   "name": "python3"
  },
  "language_info": {
   "codemirror_mode": {
    "name": "ipython",
    "version": 3
   },
   "file_extension": ".py",
   "mimetype": "text/x-python",
   "name": "python",
   "nbconvert_exporter": "python",
   "pygments_lexer": "ipython3",
   "version": "3.7.11"
  }
 },
 "nbformat": 4,
 "nbformat_minor": 5
}
